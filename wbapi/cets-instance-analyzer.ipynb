{
 "cells": [
  {
   "cell_type": "code",
   "execution_count": 1,
   "metadata": {},
   "outputs": [],
   "source": [
    "import pandas as pd\n",
    "import wbgapi as wb\n",
    "from pprint import pprint\n",
    "import ipywidgets as widgets\n",
    "from tabulate import tabulate\n",
    "from IPython.core.display import HTML\n"
   ]
  },
  {
   "cell_type": "code",
   "execution_count": 2,
   "metadata": {},
   "outputs": [],
   "source": [
    "# this could also be read direct from the API with the wbgapi package\n",
    "df = pd.read_csv('all-indicators.csv').set_index(['db', 'cets'])\n",
    "sources = {row['id']: row['code'] for row in wb.source.list()}"
   ]
  },
  {
   "cell_type": "code",
   "execution_count": 3,
   "metadata": {},
   "outputs": [],
   "source": [
    "# build a list of cets codes and which databases they're in\n",
    "db = {}\n",
    "for (idx,data) in df.iterrows():\n",
    "    id   = idx[0]\n",
    "    cets = idx[1]\n",
    "    if id != 57:\n",
    "        if db.get(cets):\n",
    "            db[cets].append(id)\n",
    "        else:\n",
    "            db[cets] = [id]\n",
    "\n",
    "# now summarize occurences of each indicator\n",
    "counts = {}\n",
    "for k,v in db.items():\n",
    "    sz = len(v)\n",
    "    counts[sz] = counts.get(sz, 0) + 1"
   ]
  },
  {
   "cell_type": "code",
   "execution_count": 4,
   "metadata": {
    "scrolled": true
   },
   "outputs": [
    {
     "data": {
      "text/html": [
       "<div class=\"wbgapi\"><table>\n",
       "<thead>\n",
       "<tr><th>id  </th><th>name                                                                </th><th>lastupdated  </th></tr>\n",
       "</thead>\n",
       "<tbody>\n",
       "<tr><td>1   </td><td>Doing Business                                                      </td><td>2019-10-23   </td></tr>\n",
       "<tr><td>2   </td><td>World Development Indicators                                        </td><td>2021-03-19   </td></tr>\n",
       "<tr><td>3   </td><td>Worldwide Governance Indicators                                     </td><td>2020-09-28   </td></tr>\n",
       "<tr><td>5   </td><td>Subnational Malnutrition Database                                   </td><td>2016-03-21   </td></tr>\n",
       "<tr><td>6   </td><td>International Debt Statistics                                       </td><td>2021-01-21   </td></tr>\n",
       "<tr><td>11  </td><td>Africa Development Indicators                                       </td><td>2013-02-22   </td></tr>\n",
       "<tr><td>12  </td><td>Education Statistics                                                </td><td>2020-12-20   </td></tr>\n",
       "<tr><td>13  </td><td>Enterprise Surveys                                                  </td><td>2021-04-02   </td></tr>\n",
       "<tr><td>14  </td><td>Gender Statistics                                                   </td><td>2021-03-22   </td></tr>\n",
       "<tr><td>15  </td><td>Global Economic Monitor                                             </td><td>2020-07-27   </td></tr>\n",
       "<tr><td>16  </td><td>Health Nutrition and Population Statistics                          </td><td>2020-12-18   </td></tr>\n",
       "<tr><td>18  </td><td>IDA Results Measurement System                                      </td><td>2020-07-07   </td></tr>\n",
       "<tr><td>19  </td><td>Millennium Development Goals                                        </td><td>2018-09-19   </td></tr>\n",
       "<tr><td>20  </td><td>Quarterly Public Sector Debt                                        </td><td>2021-03-02   </td></tr>\n",
       "<tr><td>22  </td><td>Quarterly External Debt Statistics SDDS                             </td><td>2021-01-29   </td></tr>\n",
       "<tr><td>23  </td><td>Quarterly External Debt Statistics GDDS                             </td><td>2021-01-29   </td></tr>\n",
       "<tr><td>24  </td><td>Poverty and Equity                                                  </td><td>2021-03-22   </td></tr>\n",
       "<tr><td>25  </td><td>Jobs                                                                </td><td>2021-02-17   </td></tr>\n",
       "<tr><td>27  </td><td>Global Economic Prospects                                           </td><td>2021-01-05   </td></tr>\n",
       "<tr><td>28  </td><td>Global Financial Inclusion                                          </td><td>2018-10-15   </td></tr>\n",
       "<tr><td>29  </td><td>The Atlas of Social Protection: Indicators of Resilience and Equity </td><td>2020-09-09   </td></tr>\n",
       "<tr><td>30  </td><td>Exporter Dynamics Database – Indicators at Country-Year Level       </td><td>2016-03-31   </td></tr>\n",
       "<tr><td>31  </td><td>Country Policy and Institutional Assessment                         </td><td>2020-07-24   </td></tr>\n",
       "<tr><td>32  </td><td>Global Financial Development                                        </td><td>2019-10-30   </td></tr>\n",
       "<tr><td>33  </td><td>G20 Financial Inclusion Indicators                                  </td><td>2019-02-27   </td></tr>\n",
       "<tr><td>34  </td><td>Global Partnership for Education                                    </td><td>2013-04-12   </td></tr>\n",
       "<tr><td>35  </td><td>Sustainable Energy for All                                          </td><td>2018-06-30   </td></tr>\n",
       "<tr><td>36  </td><td>Statistical Capacity Indicators                                     </td><td>2021-02-03   </td></tr>\n",
       "<tr><td>37  </td><td>LAC Equity Lab                                                      </td><td>2016-04-06   </td></tr>\n",
       "<tr><td>38  </td><td>Subnational Poverty                                                 </td><td>2015-04-27   </td></tr>\n",
       "<tr><td>39  </td><td>Health Nutrition and Population Statistics by Wealth Quintile       </td><td>2020-12-21   </td></tr>\n",
       "<tr><td>40  </td><td>Population estimates and projections                                </td><td>2020-12-18   </td></tr>\n",
       "<tr><td>41  </td><td>Country Partnership Strategy for India (FY2013 - 17)                </td><td>2015-05-22   </td></tr>\n",
       "<tr><td>43  </td><td>Adjusted Net Savings                                                </td><td>2020-08-21   </td></tr>\n",
       "<tr><td>45  </td><td>Indonesia Database for Policy and Economic Research                 </td><td>2019-05-07   </td></tr>\n",
       "<tr><td>46  </td><td>Sustainable Development Goals                                       </td><td>2021-03-22   </td></tr>\n",
       "<tr><td>50  </td><td>Subnational Population                                              </td><td>2017-09-21   </td></tr>\n",
       "<tr><td>54  </td><td>Joint External Debt Hub                                             </td><td>2021-02-11   </td></tr>\n",
       "<tr><td>57  </td><td>WDI Database Archives                                               </td><td>2020-10-26   </td></tr>\n",
       "<tr><td>58  </td><td>Universal Health Coverage                                           </td><td>2019-04-25   </td></tr>\n",
       "<tr><td>59  </td><td>Wealth Accounts                                                     </td><td>2018-01-30   </td></tr>\n",
       "<tr><td>60  </td><td>Economic Fitness                                                    </td><td>2018-04-19   </td></tr>\n",
       "<tr><td>61  </td><td>PPPs Regulatory Quality                                             </td><td>2019-04-25   </td></tr>\n",
       "<tr><td>62  </td><td>International Comparison Program (ICP) 2011                         </td><td>2020-08-24   </td></tr>\n",
       "<tr><td>63  </td><td>Human Capital Index                                                 </td><td>2020-09-21   </td></tr>\n",
       "<tr><td>64  </td><td>Worldwide Bureaucracy Indicators                                    </td><td>2020-08-03   </td></tr>\n",
       "<tr><td>65  </td><td>Health Equity and Financial Protection Indicators                   </td><td>2019-11-06   </td></tr>\n",
       "<tr><td>66  </td><td>Logistics Performance Index                                         </td><td>2019-10-29   </td></tr>\n",
       "<tr><td>67  </td><td>PEFA 2011                                                           </td><td>2021-03-10   </td></tr>\n",
       "<tr><td>68  </td><td>PEFA 2016                                                           </td><td>2021-03-10   </td></tr>\n",
       "<tr><td>69  </td><td>Global Financial Inclusion and Consumer Protection Survey           </td><td>2019-06-27   </td></tr>\n",
       "<tr><td>70  </td><td>Economic Fitness 2                                                  </td><td>2019-04-26   </td></tr>\n",
       "<tr><td>71  </td><td>International Comparison Program (ICP) 2005                         </td><td>2020-08-24   </td></tr>\n",
       "<tr><td>72  </td><td>PEFA_Test                                                           </td><td>2019-09-10   </td></tr>\n",
       "<tr><td>73  </td><td>Global Financial Inclusion and Consumer Protection Survey (Internal)</td><td>2019-06-27   </td></tr>\n",
       "<tr><td>75  </td><td>Environment, Social and Governance (ESG) Data                       </td><td>2021-02-18   </td></tr>\n",
       "<tr><td>76  </td><td>Remittance Prices Worldwide (Sending Countries)                     </td><td>2020-12-07   </td></tr>\n",
       "<tr><td>77  </td><td>Remittance Prices Worldwide (Receiving Countries)                   </td><td>2020-12-07   </td></tr>\n",
       "<tr><td>78  </td><td>ICP 2017                                                            </td><td>2020-10-21   </td></tr>\n",
       "<tr><td>79  </td><td>PEFA_GRPFM                                                          </td><td>2020-12-02   </td></tr>\n",
       "<tr><td>80  </td><td>Gender Disaggregated Labor Database (GDLD)                          </td><td>2020-07-25   </td></tr>\n",
       "<tr><td>81  </td><td>International Debt Statistics: DSSI                                 </td><td>2021-01-21   </td></tr>\n",
       "<tr><td>82  </td><td>Global Public Procurement                                           </td><td>2021-03-24   </td></tr>\n",
       "<tr><td>83  </td><td>Statistical Performance Indicators (SPI)                            </td><td>2021-04-01   </td></tr>\n",
       "<tr><td>    </td><td>64 elements                                                         </td><td>             </td></tr>\n",
       "</tbody>\n",
       "</table></div>"
      ],
      "text/plain": [
       "id    name                                                                  lastupdated\n",
       "----  --------------------------------------------------------------------  -------------\n",
       "1     Doing Business                                                        2019-10-23\n",
       "2     World Development Indicators                                          2021-03-19\n",
       "3     Worldwide Governance Indicators                                       2020-09-28\n",
       "5     Subnational Malnutrition Database                                     2016-03-21\n",
       "6     International Debt Statistics                                         2021-01-21\n",
       "11    Africa Development Indicators                                         2013-02-22\n",
       "12    Education Statistics                                                  2020-12-20\n",
       "13    Enterprise Surveys                                                    2021-04-02\n",
       "14    Gender Statistics                                                     2021-03-22\n",
       "15    Global Economic Monitor                                               2020-07-27\n",
       "16    Health Nutrition and Population Statistics                            2020-12-18\n",
       "18    IDA Results Measurement System                                        2020-07-07\n",
       "19    Millennium Development Goals                                          2018-09-19\n",
       "20    Quarterly Public Sector Debt                                          2021-03-02\n",
       "22    Quarterly External Debt Statistics SDDS                               2021-01-29\n",
       "23    Quarterly External Debt Statistics GDDS                               2021-01-29\n",
       "24    Poverty and Equity                                                    2021-03-22\n",
       "25    Jobs                                                                  2021-02-17\n",
       "27    Global Economic Prospects                                             2021-01-05\n",
       "28    Global Financial Inclusion                                            2018-10-15\n",
       "29    The Atlas of Social Protection: Indicators of Resilience and Equity   2020-09-09\n",
       "30    Exporter Dynamics Database – Indicators at Country-Year Level         2016-03-31\n",
       "31    Country Policy and Institutional Assessment                           2020-07-24\n",
       "32    Global Financial Development                                          2019-10-30\n",
       "33    G20 Financial Inclusion Indicators                                    2019-02-27\n",
       "34    Global Partnership for Education                                      2013-04-12\n",
       "35    Sustainable Energy for All                                            2018-06-30\n",
       "36    Statistical Capacity Indicators                                       2021-02-03\n",
       "37    LAC Equity Lab                                                        2016-04-06\n",
       "38    Subnational Poverty                                                   2015-04-27\n",
       "39    Health Nutrition and Population Statistics by Wealth Quintile         2020-12-21\n",
       "40    Population estimates and projections                                  2020-12-18\n",
       "41    Country Partnership Strategy for India (FY2013 - 17)                  2015-05-22\n",
       "43    Adjusted Net Savings                                                  2020-08-21\n",
       "45    Indonesia Database for Policy and Economic Research                   2019-05-07\n",
       "46    Sustainable Development Goals                                         2021-03-22\n",
       "50    Subnational Population                                                2017-09-21\n",
       "54    Joint External Debt Hub                                               2021-02-11\n",
       "57    WDI Database Archives                                                 2020-10-26\n",
       "58    Universal Health Coverage                                             2019-04-25\n",
       "59    Wealth Accounts                                                       2018-01-30\n",
       "60    Economic Fitness                                                      2018-04-19\n",
       "61    PPPs Regulatory Quality                                               2019-04-25\n",
       "62    International Comparison Program (ICP) 2011                           2020-08-24\n",
       "63    Human Capital Index                                                   2020-09-21\n",
       "64    Worldwide Bureaucracy Indicators                                      2020-08-03\n",
       "65    Health Equity and Financial Protection Indicators                     2019-11-06\n",
       "66    Logistics Performance Index                                           2019-10-29\n",
       "67    PEFA 2011                                                             2021-03-10\n",
       "68    PEFA 2016                                                             2021-03-10\n",
       "69    Global Financial Inclusion and Consumer Protection Survey             2019-06-27\n",
       "70    Economic Fitness 2                                                    2019-04-26\n",
       "71    International Comparison Program (ICP) 2005                           2020-08-24\n",
       "72    PEFA_Test                                                             2019-09-10\n",
       "73    Global Financial Inclusion and Consumer Protection Survey (Internal)  2019-06-27\n",
       "75    Environment, Social and Governance (ESG) Data                         2021-02-18\n",
       "76    Remittance Prices Worldwide (Sending Countries)                       2020-12-07\n",
       "77    Remittance Prices Worldwide (Receiving Countries)                     2020-12-07\n",
       "78    ICP 2017                                                              2020-10-21\n",
       "79    PEFA_GRPFM                                                            2020-12-02\n",
       "80    Gender Disaggregated Labor Database (GDLD)                            2020-07-25\n",
       "81    International Debt Statistics: DSSI                                   2021-01-21\n",
       "82    Global Public Procurement                                             2021-03-24\n",
       "83    Statistical Performance Indicators (SPI)                              2021-04-01\n",
       "      64 elements"
      ]
     },
     "execution_count": 4,
     "metadata": {},
     "output_type": "execute_result"
    }
   ],
   "source": [
    "# for reference, here's the database list\n",
    "wb.source.info()"
   ]
  },
  {
   "cell_type": "code",
   "execution_count": 20,
   "metadata": {
    "scrolled": false
   },
   "outputs": [
    {
     "data": {
      "application/vnd.jupyter.widget-view+json": {
       "model_id": "76dd45f913c34885b1347b692278eea1",
       "version_major": 2,
       "version_minor": 0
      },
      "text/plain": [
       "interactive(children=(SelectionSlider(continuous_update=False, description='Occurrences:', options=(2, 3, 4, 5…"
      ]
     },
     "metadata": {},
     "output_type": "display_data"
    },
    {
     "data": {
      "text/plain": [
       "<function __main__.show_occurrences(sz=2)>"
      ]
     },
     "execution_count": 20,
     "metadata": {},
     "output_type": "execute_result"
    }
   ],
   "source": [
    "# this is a tool that common instances of indicators across databases. Start by selecting the number of occurrences wanted\n",
    "def show_occurrences(sz=2):\n",
    "    \n",
    "    sets = set()\n",
    "    counters = {}\n",
    "    for k,v in db.items():\n",
    "        if len(v) == sz:\n",
    "            sets.add(tuple(v))\n",
    "            counters[tuple(v)] = counters.get(tuple(v), 0) + 1\n",
    "          \n",
    "    report = []\n",
    "    for elem in sets:\n",
    "        report.append([\n",
    "            ', '.join(map(lambda x: str(x), elem)),\n",
    "            ', '.join(map(lambda x: sources[str(x)], elem)),\n",
    "            counters[elem]\n",
    "        ])\n",
    "    \n",
    "    total = '<p>Total Indicators: {}</p>'.format(sum(counters.values()))\n",
    "    return HTML(tabulate(report, tablefmt='html', headers=['Source IDs', 'Source Codes', '# Indicators']) + total)\n",
    "\n",
    "  \n",
    "\n",
    "options = list(counts.keys())\n",
    "options.sort()\n",
    "occur_slider = widgets.SelectionSlider(options=options[1:], continuous_update=False, description='Occurrences:')\n",
    "\n",
    "widgets.interact(show_occurrences, sz=occur_slider)"
   ]
  },
  {
   "cell_type": "code",
   "execution_count": 21,
   "metadata": {},
   "outputs": [
    {
     "data": {
      "application/vnd.jupyter.widget-view+json": {
       "model_id": "b8e020a8a9144df8a0be5fbc4fd95f99",
       "version_major": 2,
       "version_minor": 0
      },
      "text/plain": [
       "interactive(children=(Text(value='', continuous_update=False, description='ids', placeholder='Enter comma-sepa…"
      ]
     },
     "metadata": {},
     "output_type": "display_data"
    },
    {
     "data": {
      "text/plain": [
       "<function __main__.indicator_report(ids='', exact=False)>"
      ]
     },
     "execution_count": 21,
     "metadata": {},
     "output_type": "execute_result"
    }
   ],
   "source": [
    "# This tool shows the indicators in common between a set of specified databases\n",
    "\n",
    "databases = widgets.Text(placeholder='Enter comma-separated database IDs to search for', continuous_update=False)\n",
    "exact = widgets.Checkbox(description='Exact match')\n",
    "\n",
    "def indicator_report(ids='', exact=False):\n",
    "    \n",
    "    ids = ids.replace(' ', '')\n",
    "    if len(ids) == 0:\n",
    "        return HTML('')\n",
    "    \n",
    "    ids = set(map(lambda x: int(x), ids.split(',')))\n",
    "    report = []\n",
    "    for k,v in db.items():\n",
    "        if ids == set(v) or (exact == False and ids & (ids & set(v)) == ids):\n",
    "            report.append([\n",
    "                ', '.join(map(lambda x: str(x), v)),\n",
    "                ', '.join(map(lambda x: sources[str(x)], v)),\n",
    "                k,\n",
    "                df.loc[(v[0], k), 'name']\n",
    "            ])\n",
    "    \n",
    "    if len(report) == 0:\n",
    "        return HTML('No match')\n",
    "    \n",
    "    return HTML(tabulate(report, tablefmt='html', headers=['Source IDs', 'Source Codes', 'CETS Code', 'Name']))   \n",
    "\n",
    "\n",
    "widgets.interact(indicator_report, ids=databases, exact=exact)"
   ]
  },
  {
   "cell_type": "code",
   "execution_count": 29,
   "metadata": {},
   "outputs": [
    {
     "data": {
      "application/vnd.jupyter.widget-view+json": {
       "model_id": "37bf281eafca45a2aa3455e919603f7f",
       "version_major": 2,
       "version_minor": 0
      },
      "text/plain": [
       "interactive(children=(Text(value='', continuous_update=False, description='cets', placeholder='Enter a CETS co…"
      ]
     },
     "metadata": {},
     "output_type": "display_data"
    },
    {
     "data": {
      "text/plain": [
       "<function __main__.cets_report(cets)>"
      ]
     },
     "execution_count": 29,
     "metadata": {},
     "output_type": "execute_result"
    }
   ],
   "source": [
    "# Conversely, this tool shows which databases a given indicator is included in\n",
    "\n",
    "cets_lookup = widgets.Text(placeholder='Enter a CETS code', continuous_update=False)\n",
    "\n",
    "def cets_report(cets):\n",
    "    \n",
    "    if len(cets.strip()) == 0:\n",
    "        return HTML('')\n",
    "    \n",
    "    result = db.get(cets)\n",
    "    if result is None:\n",
    "        return HTML('Not found')\n",
    "    \n",
    "    result_str = '<p>' + ', '.join(map(lambda x: str(x), result)) + '</p>'\n",
    "    return HTML(result_str + wb.source.info(result)._repr_html_())\n",
    "\n",
    "widgets.interact(cets_report, cets=cets_lookup)"
   ]
  }
 ],
 "metadata": {
  "finalized": {
   "timestamp": 1617242937756,
   "trusted": true
  },
  "kernelspec": {
   "display_name": "Python 3",
   "language": "python",
   "name": "python3"
  },
  "language_info": {
   "codemirror_mode": {
    "name": "ipython",
    "version": 3
   },
   "file_extension": ".py",
   "mimetype": "text/x-python",
   "name": "python",
   "nbconvert_exporter": "python",
   "pygments_lexer": "ipython3",
   "version": "3.7.4"
  }
 },
 "nbformat": 4,
 "nbformat_minor": 2
}
